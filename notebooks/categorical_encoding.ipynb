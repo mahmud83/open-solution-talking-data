{
 "cells": [
  {
   "cell_type": "code",
   "execution_count": 8,
   "metadata": {},
   "outputs": [
    {
     "name": "stdout",
     "output_type": "stream",
     "text": [
      "The autoreload extension is already loaded. To reload it, use:\n",
      "  %reload_ext autoreload\n"
     ]
    }
   ],
   "source": [
    "%load_ext autoreload\n",
    "%autoreload 2\n",
    "\n",
    "import sys\n",
    "\n",
    "import category_encoders as ce\n",
    "import pandas as pd\n",
    "\n",
    "sys.path.append('../')\n",
    "from utils import read_csv_time_chunks\n",
    "from steps.base import BaseTransformer\n",
    "\n",
    "FILES_DIR = '/mnt/ml-team/minerva/talking_data/files/'\n",
    "\n",
    "CATEGORICAL_FEATURES = ['ip', 'app', 'device', 'os', 'channel']\n",
    "TARGET_COLUMN = ['is_attributed']"
   ]
  },
  {
   "cell_type": "code",
   "execution_count": 2,
   "metadata": {},
   "outputs": [
    {
     "name": "stderr",
     "output_type": "stream",
     "text": [
      "100%|██████████| 1/1 [00:07<00:00,  7.04s/it]"
     ]
    },
    {
     "name": "stdout",
     "output_type": "stream",
     "text": [
      "read in chunk /mnt/ml-team/minerva/talking_data/files//train_day8_hour4.csv of shape (3545132, 8)\n"
     ]
    },
    {
     "name": "stderr",
     "output_type": "stream",
     "text": [
      "\n"
     ]
    },
    {
     "name": "stdout",
     "output_type": "stream",
     "text": [
      "combined dataset shape: (3545132, 8)\n"
     ]
    }
   ],
   "source": [
    "train = read_csv_time_chunks(FILES_DIR, days=[8],hours=[4])"
   ]
  },
  {
   "cell_type": "code",
   "execution_count": 3,
   "metadata": {},
   "outputs": [
    {
     "data": {
      "text/html": [
       "<div>\n",
       "<style scoped>\n",
       "    .dataframe tbody tr th:only-of-type {\n",
       "        vertical-align: middle;\n",
       "    }\n",
       "\n",
       "    .dataframe tbody tr th {\n",
       "        vertical-align: top;\n",
       "    }\n",
       "\n",
       "    .dataframe thead th {\n",
       "        text-align: right;\n",
       "    }\n",
       "</style>\n",
       "<table border=\"1\" class=\"dataframe\">\n",
       "  <thead>\n",
       "    <tr style=\"text-align: right;\">\n",
       "      <th></th>\n",
       "      <th>ip</th>\n",
       "      <th>app</th>\n",
       "      <th>device</th>\n",
       "      <th>os</th>\n",
       "      <th>channel</th>\n",
       "      <th>click_time</th>\n",
       "      <th>attributed_time</th>\n",
       "      <th>is_attributed</th>\n",
       "    </tr>\n",
       "  </thead>\n",
       "  <tbody>\n",
       "    <tr>\n",
       "      <th>0</th>\n",
       "      <td>58991</td>\n",
       "      <td>12</td>\n",
       "      <td>1</td>\n",
       "      <td>26</td>\n",
       "      <td>259</td>\n",
       "      <td>2017-11-08 04:00:00</td>\n",
       "      <td>NaN</td>\n",
       "      <td>0</td>\n",
       "    </tr>\n",
       "    <tr>\n",
       "      <th>1</th>\n",
       "      <td>184626</td>\n",
       "      <td>18</td>\n",
       "      <td>1</td>\n",
       "      <td>19</td>\n",
       "      <td>121</td>\n",
       "      <td>2017-11-08 04:00:00</td>\n",
       "      <td>NaN</td>\n",
       "      <td>0</td>\n",
       "    </tr>\n",
       "    <tr>\n",
       "      <th>2</th>\n",
       "      <td>151871</td>\n",
       "      <td>3</td>\n",
       "      <td>1</td>\n",
       "      <td>9</td>\n",
       "      <td>280</td>\n",
       "      <td>2017-11-08 04:00:00</td>\n",
       "      <td>NaN</td>\n",
       "      <td>0</td>\n",
       "    </tr>\n",
       "    <tr>\n",
       "      <th>3</th>\n",
       "      <td>4180</td>\n",
       "      <td>3</td>\n",
       "      <td>1</td>\n",
       "      <td>19</td>\n",
       "      <td>424</td>\n",
       "      <td>2017-11-08 04:00:00</td>\n",
       "      <td>NaN</td>\n",
       "      <td>0</td>\n",
       "    </tr>\n",
       "    <tr>\n",
       "      <th>4</th>\n",
       "      <td>231270</td>\n",
       "      <td>9</td>\n",
       "      <td>1</td>\n",
       "      <td>15</td>\n",
       "      <td>466</td>\n",
       "      <td>2017-11-08 04:00:00</td>\n",
       "      <td>NaN</td>\n",
       "      <td>0</td>\n",
       "    </tr>\n",
       "  </tbody>\n",
       "</table>\n",
       "</div>"
      ],
      "text/plain": [
       "       ip  app  device  os  channel          click_time attributed_time  \\\n",
       "0   58991   12       1  26      259 2017-11-08 04:00:00             NaN   \n",
       "1  184626   18       1  19      121 2017-11-08 04:00:00             NaN   \n",
       "2  151871    3       1   9      280 2017-11-08 04:00:00             NaN   \n",
       "3    4180    3       1  19      424 2017-11-08 04:00:00             NaN   \n",
       "4  231270    9       1  15      466 2017-11-08 04:00:00             NaN   \n",
       "\n",
       "   is_attributed  \n",
       "0              0  \n",
       "1              0  \n",
       "2              0  \n",
       "3              0  \n",
       "4              0  "
      ]
     },
     "execution_count": 3,
     "metadata": {},
     "output_type": "execute_result"
    }
   ],
   "source": [
    "train.head()"
   ]
  },
  {
   "cell_type": "code",
   "execution_count": 31,
   "metadata": {},
   "outputs": [],
   "source": [
    "X = train[CATEGORICAL_FEATURES].sample(100000)\n",
    "y = train[TARGET_COLUMN].sample(100000)"
   ]
  },
  {
   "cell_type": "markdown",
   "metadata": {},
   "source": [
    "# Out of the box "
   ]
  },
  {
   "cell_type": "code",
   "execution_count": null,
   "metadata": {},
   "outputs": [],
   "source": [
    "target_encoder = ce.TargetEncoder(cols=CATEGORICAL_FEATURES)\n",
    "target_encoder.fit(X,y)\n",
    "X_ = target_encoder.transform(X)"
   ]
  },
  {
   "cell_type": "code",
   "execution_count": null,
   "metadata": {},
   "outputs": [],
   "source": [
    "X_.head()"
   ]
  },
  {
   "cell_type": "code",
   "execution_count": null,
   "metadata": {},
   "outputs": [],
   "source": [
    "binary_encoder = ce.binary.BinaryEncoder(cols=CATEGORICAL_FEATURES)\n",
    "binary_encoder.fit(X,y)\n",
    "X_ = binary_encoder.transform(X)"
   ]
  },
  {
   "cell_type": "code",
   "execution_count": null,
   "metadata": {},
   "outputs": [],
   "source": [
    "X_.head()"
   ]
  },
  {
   "cell_type": "code",
   "execution_count": 32,
   "metadata": {},
   "outputs": [],
   "source": [
    "from sklearn.model_selection import KFold\n",
    "\n",
    "class TargetEncoderNSplits(BaseTransformer):\n",
    "    def __init__(self, n_splits, **kwargs):\n",
    "        self.k_folds = KFold(n_splits=n_splits)\n",
    "        self.target_means_map = {}\n",
    "        \n",
    "    def _target_means_names(self, columns):\n",
    "        confidence_rate_names = ['target_mean_{}'.format(column) for column in columns]\n",
    "        return confidence_rate_names\n",
    "\n",
    "    def _is_null_names(self, columns):\n",
    "        is_null_names = ['target_mean_is_nan_{}'.format(column) for column in columns]\n",
    "        return is_null_names\n",
    "        \n",
    "    def fit(self, categorical_features, target, **kwargs):\n",
    "        feature_columns, target_column = categorical_features.columns, target.columns[0]\n",
    "\n",
    "        X_target_means = []\n",
    "        self.k_folds.get_n_splits(target)\n",
    "        for train_index, test_index in self.k_folds.split(target):\n",
    "            X_train, y_train = categorical_features.iloc[train_index], target.iloc[train_index]\n",
    "            X_test, y_test = categorical_features.iloc[test_index], target.iloc[test_index]\n",
    "            \n",
    "            train = pd.concat([X_train, y_train], axis=1)\n",
    "            for column, target_mean_name in zip(feature_columns, self._target_means_names(feature_columns)):\n",
    "                group_object = train.groupby(column)\n",
    "                train_target_means = group_object[target_column].mean().\\\n",
    "                    reset_index().rename(index=str, columns={target_column: target_mean_name})\n",
    "                \n",
    "                X_test = X_test.merge(train_target_means, on=column, how='left')\n",
    "            X_target_means.append(X_test)\n",
    "        X_target_means = pd.concat(X_target_means, axis=0)\n",
    "        \n",
    "        for column, target_mean_name in zip(feature_columns, self._target_means_names(feature_columns)):\n",
    "            group_object = X_target_means.groupby(column)\n",
    "            self.target_means_map[column] = group_object[target_mean_name].mean().reset_index()\n",
    "        \n",
    "        return self\n",
    "    \n",
    "    def transform(self, categorical_features, **kwargs):\n",
    "        columns = categorical_features.columns\n",
    "        \n",
    "        for column, target_mean_name, is_null_name in zip(columns,\n",
    "                                                          self._target_means_names(columns),\n",
    "                                                          self._is_null_names(columns)):\n",
    "            \n",
    "            categorical_features = categorical_features.merge(self.target_means_map[column],\n",
    "                                                              on=column,\n",
    "                                                              how='left')\n",
    "            categorical_features[is_null_name] = pd.isnull(categorical_features[target_mean_name]).astype(int)\n",
    "            categorical_features[target_mean_name].fillna(0, inplace=True)\n",
    "        \n",
    "        return {'numerical_features': categorical_features[self._target_means_names(columns)],\n",
    "                'categorical_features': categorical_features[self._is_null_names(columns)]}\n",
    "\n",
    "    def load(self, filepath):\n",
    "        self.target_encoder = joblib.load(filepath)\n",
    "        return self\n",
    "\n",
    "    def save(self, filepath):\n",
    "        joblib.dump(self.target_encoder, filepath)\n",
    "\n",
    "        \n",
    "target_encoder = TargetEncoderNSplits(n_splits=10)\n",
    "X_ = target_encoder.fit_transform(categorical_features=X, target=y)"
   ]
  },
  {
   "cell_type": "code",
   "execution_count": 33,
   "metadata": {},
   "outputs": [
    {
     "data": {
      "text/html": [
       "<div>\n",
       "<style scoped>\n",
       "    .dataframe tbody tr th:only-of-type {\n",
       "        vertical-align: middle;\n",
       "    }\n",
       "\n",
       "    .dataframe tbody tr th {\n",
       "        vertical-align: top;\n",
       "    }\n",
       "\n",
       "    .dataframe thead th {\n",
       "        text-align: right;\n",
       "    }\n",
       "</style>\n",
       "<table border=\"1\" class=\"dataframe\">\n",
       "  <thead>\n",
       "    <tr style=\"text-align: right;\">\n",
       "      <th></th>\n",
       "      <th>target_mean_ip</th>\n",
       "      <th>target_mean_app</th>\n",
       "      <th>target_mean_device</th>\n",
       "      <th>target_mean_os</th>\n",
       "      <th>target_mean_channel</th>\n",
       "    </tr>\n",
       "  </thead>\n",
       "  <tbody>\n",
       "    <tr>\n",
       "      <th>count</th>\n",
       "      <td>100000.000000</td>\n",
       "      <td>100000.000000</td>\n",
       "      <td>100000.000000</td>\n",
       "      <td>100000.000000</td>\n",
       "      <td>100000.000000</td>\n",
       "    </tr>\n",
       "    <tr>\n",
       "      <th>mean</th>\n",
       "      <td>0.000478</td>\n",
       "      <td>0.003581</td>\n",
       "      <td>0.002838</td>\n",
       "      <td>0.003146</td>\n",
       "      <td>0.003312</td>\n",
       "    </tr>\n",
       "    <tr>\n",
       "      <th>std</th>\n",
       "      <td>0.016048</td>\n",
       "      <td>0.039525</td>\n",
       "      <td>0.012635</td>\n",
       "      <td>0.018752</td>\n",
       "      <td>0.033490</td>\n",
       "    </tr>\n",
       "    <tr>\n",
       "      <th>min</th>\n",
       "      <td>0.000000</td>\n",
       "      <td>0.000000</td>\n",
       "      <td>0.000000</td>\n",
       "      <td>0.000000</td>\n",
       "      <td>0.000000</td>\n",
       "    </tr>\n",
       "    <tr>\n",
       "      <th>25%</th>\n",
       "      <td>0.000000</td>\n",
       "      <td>0.000000</td>\n",
       "      <td>0.002244</td>\n",
       "      <td>0.000000</td>\n",
       "      <td>0.000000</td>\n",
       "    </tr>\n",
       "    <tr>\n",
       "      <th>50%</th>\n",
       "      <td>0.000000</td>\n",
       "      <td>0.000000</td>\n",
       "      <td>0.002244</td>\n",
       "      <td>0.003138</td>\n",
       "      <td>0.000000</td>\n",
       "    </tr>\n",
       "    <tr>\n",
       "      <th>75%</th>\n",
       "      <td>0.000000</td>\n",
       "      <td>0.000000</td>\n",
       "      <td>0.002244</td>\n",
       "      <td>0.003467</td>\n",
       "      <td>0.000000</td>\n",
       "    </tr>\n",
       "    <tr>\n",
       "      <th>max</th>\n",
       "      <td>1.000000</td>\n",
       "      <td>0.594248</td>\n",
       "      <td>1.000000</td>\n",
       "      <td>0.440476</td>\n",
       "      <td>1.000000</td>\n",
       "    </tr>\n",
       "  </tbody>\n",
       "</table>\n",
       "</div>"
      ],
      "text/plain": [
       "       target_mean_ip  target_mean_app  target_mean_device  target_mean_os  \\\n",
       "count   100000.000000    100000.000000       100000.000000   100000.000000   \n",
       "mean         0.000478         0.003581            0.002838        0.003146   \n",
       "std          0.016048         0.039525            0.012635        0.018752   \n",
       "min          0.000000         0.000000            0.000000        0.000000   \n",
       "25%          0.000000         0.000000            0.002244        0.000000   \n",
       "50%          0.000000         0.000000            0.002244        0.003138   \n",
       "75%          0.000000         0.000000            0.002244        0.003467   \n",
       "max          1.000000         0.594248            1.000000        0.440476   \n",
       "\n",
       "       target_mean_channel  \n",
       "count        100000.000000  \n",
       "mean              0.003312  \n",
       "std               0.033490  \n",
       "min               0.000000  \n",
       "25%               0.000000  \n",
       "50%               0.000000  \n",
       "75%               0.000000  \n",
       "max               1.000000  "
      ]
     },
     "execution_count": 33,
     "metadata": {},
     "output_type": "execute_result"
    }
   ],
   "source": [
    "X_['numerical_features'].describe()"
   ]
  },
  {
   "cell_type": "code",
   "execution_count": null,
   "metadata": {},
   "outputs": [],
   "source": []
  }
 ],
 "metadata": {
  "kernelspec": {
   "display_name": "cpu py3",
   "language": "python",
   "name": "cpu_py3"
  },
  "language_info": {
   "codemirror_mode": {
    "name": "ipython",
    "version": 3
   },
   "file_extension": ".py",
   "mimetype": "text/x-python",
   "name": "python",
   "nbconvert_exporter": "python",
   "pygments_lexer": "ipython3",
   "version": "3.5.2"
  }
 },
 "nbformat": 4,
 "nbformat_minor": 2
}
