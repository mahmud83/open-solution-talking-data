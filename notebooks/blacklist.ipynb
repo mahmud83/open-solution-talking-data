{
 "cells": [
  {
   "cell_type": "code",
   "execution_count": null,
   "metadata": {},
   "outputs": [],
   "source": [
    "import os\n",
    "import sys\n",
    "\n",
    "import numpy as np\n",
    "import pandas as pd\n",
    "\n",
    "sys.path.append('../')\n",
    "from utils import read_csv_time_chunks\n",
    "from steps.base import BaseTransformer"
   ]
  },
  {
   "cell_type": "code",
   "execution_count": null,
   "metadata": {},
   "outputs": [],
   "source": [
    "files_dir = '/mnt/ml-team/minerva/talking_data/files'\n",
    "hours = list(range(12))\n",
    "days = [7]"
   ]
  },
  {
   "cell_type": "code",
   "execution_count": null,
   "metadata": {
    "scrolled": true
   },
   "outputs": [],
   "source": [
    "df_train = read_csv_time_chunks(files_dir, days=days, hours=hours)"
   ]
  },
  {
   "cell_type": "code",
   "execution_count": null,
   "metadata": {},
   "outputs": [],
   "source": [
    "blacklist = {'ip': [299172, 144604, 135992, 49386, 151908],\n",
    "             'app': [151, 56, 183, 93],\n",
    "             'device': [5, 182, 1728],\n",
    "             'os': [56, 65, 39, 79, 97],\n",
    "             'channel': [404, 420, 474]\n",
    "             }"
   ]
  },
  {
   "cell_type": "code",
   "execution_count": null,
   "metadata": {},
   "outputs": [],
   "source": [
    "class Blacklist(BaseTransformer):\n",
    "\n",
    "    def __init__(self, blacklists={}):\n",
    "        self.blacklist = blacklist\n",
    "    \n",
    "    @property\n",
    "    def blacklist_names(self):\n",
    "        blacklist_names = ['{}_on_blacklist'.format(category)\n",
    "                                 for category in self.blacklist]\n",
    "        return blacklist_names\n",
    "    \n",
    "    def transform(self, categorical_features):\n",
    "        new_features = []\n",
    "\n",
    "        for category, blacklist_name in zip(self.blacklist, self.blacklist_names):\n",
    "\n",
    "                categorical_features[blacklist_name] = (categorical_features[category].isin(blacklist[category])).astype(int)\n",
    "            \n",
    "        return {'categorical_features': categorical_features[self.blacklist_names]}\n"
   ]
  },
  {
   "cell_type": "code",
   "execution_count": null,
   "metadata": {},
   "outputs": [],
   "source": [
    "black = Blacklist(blacklist)"
   ]
  },
  {
   "cell_type": "code",
   "execution_count": null,
   "metadata": {},
   "outputs": [],
   "source": [
    "is_black = black.transform(df_train)['categorical_features']"
   ]
  },
  {
   "cell_type": "code",
   "execution_count": null,
   "metadata": {},
   "outputs": [],
   "source": [
    "is_black.head()"
   ]
  },
  {
   "cell_type": "code",
   "execution_count": null,
   "metadata": {},
   "outputs": [],
   "source": [
    "is_black.loc[is_black['channel_on_blacklist'] == 1]"
   ]
  },
  {
   "cell_type": "code",
   "execution_count": null,
   "metadata": {},
   "outputs": [],
   "source": []
  }
 ],
 "metadata": {
  "kernelspec": {
   "display_name": "Python 3",
   "language": "python",
   "name": "python3"
  },
  "language_info": {
   "codemirror_mode": {
    "name": "ipython",
    "version": 3
   },
   "file_extension": ".py",
   "mimetype": "text/x-python",
   "name": "python",
   "nbconvert_exporter": "python",
   "pygments_lexer": "ipython3",
   "version": "3.5.2"
  }
 },
 "nbformat": 4,
 "nbformat_minor": 2
}
